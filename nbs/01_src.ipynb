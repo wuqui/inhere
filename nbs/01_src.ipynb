{
 "cells": [
  {
   "cell_type": "code",
   "execution_count": null,
   "metadata": {},
   "outputs": [],
   "source": [
    "#| hide\n",
    "%load_ext autoreload\n",
    "%autoreload 2"
   ]
  },
  {
   "cell_type": "code",
   "execution_count": null,
   "metadata": {},
   "outputs": [],
   "source": [
    "#| default_exp src"
   ]
  },
  {
   "cell_type": "markdown",
   "metadata": {},
   "source": [
    "# src\n",
    "\n",
    "> ..."
   ]
  },
  {
   "cell_type": "code",
   "execution_count": null,
   "metadata": {},
   "outputs": [],
   "source": [
    "#| export\n",
    "import pandas as pd\n",
    "\n",
    "from sklearn.decomposition import PCA\n",
    "from sklearn.cluster import KMeans\n",
    "from sklearn.metrics import silhouette_score\n",
    "from scipy.spatial import distance\n",
    "from sklearn.manifold import TSNE\n",
    "\n",
    "import altair as alt"
   ]
  },
  {
   "cell_type": "markdown",
   "metadata": {},
   "source": [
    "## data loading"
   ]
  },
  {
   "cell_type": "code",
   "execution_count": null,
   "metadata": {},
   "outputs": [],
   "source": [
    "#| export\n",
    "def load_data():\n",
    "\tdf = pd.read_excel('../data/bnc2014sampleforR.xlsx')\n",
    "\trelevant_columns = [\n",
    "\t\t'Number of hit',\n",
    "\t\t'left_context',\n",
    "\t\t'node',\n",
    "\t\t'right_context',\n",
    "\t\t# 'L3_word',\n",
    "\t\t'L2_word',\n",
    "\t\t'L1_word',\n",
    "\t\t'R1_word',\n",
    "\t\t'R2_word',\n",
    "\t\t'R3_word',\n",
    "\t\t'L2_wc',\n",
    "\t\t'L1_wc',\n",
    "\t\t'R1_wc',\n",
    "\t\t'foc',\n",
    "\t\t'fig',\n",
    "\t\t'mot',\n",
    "\t\t'con',\n",
    "\t\t'van',\n",
    "\t\t'ill'\n",
    "\t]\n",
    "\treturn df[relevant_columns]"
   ]
  },
  {
   "cell_type": "markdown",
   "metadata": {},
   "source": [
    "## one-hot encoding"
   ]
  },
  {
   "cell_type": "code",
   "execution_count": null,
   "metadata": {},
   "outputs": [],
   "source": [
    "#| export\n",
    "def get_one_hot_encoding(df, columns: list):\n",
    "\treturn pd.get_dummies(df[columns])"
   ]
  },
  {
   "cell_type": "markdown",
   "metadata": {},
   "source": [
    "## dimensionality reduction"
   ]
  },
  {
   "cell_type": "code",
   "execution_count": null,
   "metadata": {},
   "outputs": [],
   "source": [
    "#| export\n",
    "def reduce_dimensions(df_onehot):\n",
    "\tn_components = min(50, df_onehot.shape[1])  # reduce to 50 components or total features if less than 50\n",
    "\tpca = PCA(n_components=n_components)\n",
    "\tdimred = pca.fit_transform(df_onehot)\n",
    "\treturn dimred"
   ]
  },
  {
   "cell_type": "markdown",
   "metadata": {},
   "source": [
    "## clustering"
   ]
  },
  {
   "cell_type": "code",
   "execution_count": null,
   "metadata": {},
   "outputs": [],
   "source": [
    "#| export\n",
    "def get_number_of_clusters(dimred):\n",
    "    silhouette_scores = []\n",
    "    # Start from 2 as silhouette score isn't defined for k=1\n",
    "    for k in range(2, 10):\n",
    "        kmeans = KMeans(n_clusters=k, n_init=10).fit(dimred)\n",
    "        labels = kmeans.labels_\n",
    "        silhouette_scores.append(silhouette_score(dimred, labels))\n",
    "        optimal_k = silhouette_scores.index(max(silhouette_scores)) + 2\n",
    "    return optimal_k"
   ]
  },
  {
   "cell_type": "code",
   "execution_count": null,
   "metadata": {},
   "outputs": [],
   "source": [
    "#| export\n",
    "def make_elbow_chart(dimred, n_max):\n",
    "    wcss = []\n",
    "    for i in range(1, n_max+1):\n",
    "        kmeans = KMeans(\n",
    "        n_clusters=i, \n",
    "        init='k-means++', \n",
    "        max_iter=300, \n",
    "        n_init=10, \n",
    "        random_state=0\n",
    "        )\n",
    "        kmeans.fit(dimred)\n",
    "        wcss.append(kmeans.inertia_)\n",
    "\n",
    "    df = pd.DataFrame({'Number of clusters': range(1, n_max+1), 'WCSS': wcss})\n",
    "    elbow_chart = alt.Chart(df).mark_line(point=True).encode(\n",
    "        x='Number of clusters',\n",
    "        y='WCSS',\n",
    "        tooltip=['Number of clusters', 'WCSS']\n",
    "    ).properties(\n",
    "        title=\"Determining the number of clusters based on the Elbow Method\"\n",
    "    )\n",
    "    return elbow_chart"
   ]
  },
  {
   "cell_type": "code",
   "execution_count": null,
   "metadata": {},
   "outputs": [],
   "source": [
    "#| export\n",
    "def run_clustering(dimred, k):\n",
    "    kmeans = KMeans(n_clusters=k, random_state=42)\n",
    "    clusters = kmeans.fit_predict(dimred)\n",
    "    centers = kmeans.cluster_centers_\n",
    "    return clusters, centers"
   ]
  },
  {
   "cell_type": "code",
   "execution_count": null,
   "metadata": {},
   "outputs": [],
   "source": [
    "#| export\n",
    "def get_cluster_distances(df, dimred, centers):\n",
    "\tfor i, center in enumerate(centers):\n",
    "\t\tdists_atts = []\n",
    "\t\tfor att in dimred:\n",
    "\t\t\tdists_atts.append(distance.euclidean(center, att))\n",
    "\t\tdf[f'dist_cluster_{i}'] = dists_atts\n",
    "\treturn df"
   ]
  },
  {
   "cell_type": "markdown",
   "metadata": {},
   "source": [
    "## visualise clustered attestations"
   ]
  },
  {
   "cell_type": "code",
   "execution_count": null,
   "metadata": {},
   "outputs": [],
   "source": [
    "#| export\n",
    "def run_tsne(dimred):\n",
    "\ttsne = TSNE(n_components=2, random_state=42)\n",
    "\ttsne_values = tsne.fit_transform(dimred)\n",
    "\tdf_tsne = pd.DataFrame(tsne_values, columns=['x', 'y'])\n",
    "\treturn df_tsne"
   ]
  },
  {
   "cell_type": "code",
   "execution_count": null,
   "metadata": {},
   "outputs": [],
   "source": [
    "#| export\n",
    "def plot_tsne(df_tsne, clusters):\n",
    "\tdf_tsne['cluster'] = clusters\n",
    "\tchart = alt.Chart(df_tsne).mark_point().encode(\n",
    "\t\tx='x',\n",
    "\t\ty='y',\n",
    "\t\tcolor='cluster:N'\n",
    "\t)\n",
    "\treturn chart"
   ]
  }
 ],
 "metadata": {
  "kernelspec": {
   "display_name": "python3",
   "language": "python",
   "name": "python3"
  }
 },
 "nbformat": 4,
 "nbformat_minor": 2
}
