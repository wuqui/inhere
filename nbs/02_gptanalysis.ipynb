{
 "cells": [
  {
   "cell_type": "code",
   "execution_count": 78,
   "metadata": {},
   "outputs": [],
   "source": [
    "#| default_exp gptanalysis"
   ]
  },
  {
   "cell_type": "code",
   "execution_count": 94,
   "metadata": {},
   "outputs": [],
   "source": [
    "import pandas as pd\n",
    "from IPython.display import display, Markdown"
   ]
  },
  {
   "cell_type": "code",
   "execution_count": 80,
   "metadata": {},
   "outputs": [],
   "source": [
    "df = pd.read_excel('../out/attestations_clustered.xlsx')"
   ]
  },
  {
   "cell_type": "markdown",
   "metadata": {},
   "source": [
    "# set up API"
   ]
  },
  {
   "cell_type": "code",
   "execution_count": 81,
   "metadata": {},
   "outputs": [],
   "source": [
    "from dotenv import load_dotenv\n",
    "import os\n",
    "from simpleaichat import AIChat\n",
    "\n",
    "# Load the environment variables from the .env file\n",
    "load_dotenv()\n",
    "\n",
    "# Get the value of the OPENAI_API_KEY environment variable\n",
    "api_key = os.getenv(\"OPENAI_API_KEY\")"
   ]
  },
  {
   "cell_type": "code",
   "execution_count": 102,
   "metadata": {},
   "outputs": [
    {
     "data": {
      "text/markdown": [
       "You work as a corpuslinguistic annotator for a research project in linguistics. The data are from the BNC 2014 spoken corpus and contain utterances that feature the phrase 'in here'. These utterances were classified into several clusters based on several features of the attested utterances: word forms, word classes, and several semantic and pragmatic features. The assumption is that these clusters represent different types of uses of the phrase 'in here' and that they show differences with regard to linguistic regularities underlying the use of 'in here'. Your job is to summarise the regularities of each cluster, and to summarise how these clusters cover the space of usages of the phrase 'in here'."
      ],
      "text/plain": [
       "<IPython.core.display.Markdown object>"
      ]
     },
     "metadata": {},
     "output_type": "display_data"
    }
   ],
   "source": [
    "with open('../data/gpt_prompt_system.txt', 'r') as f:\n",
    "    prompt_system = f.read().replace('\\n', ' ')\n",
    "\n",
    "display(Markdown(prompt_system))"
   ]
  },
  {
   "cell_type": "code",
   "execution_count": 83,
   "metadata": {},
   "outputs": [],
   "source": [
    "model='gpt-4'\n",
    "# model='gpt-3.5-turbo'"
   ]
  },
  {
   "cell_type": "code",
   "execution_count": 84,
   "metadata": {},
   "outputs": [],
   "source": [
    "from pydantic import BaseModel, Field\n",
    "\n",
    "ai = AIChat( \n",
    "    console=False,\n",
    "    save_messages=False,  # with schema I/O, messages are never saved\n",
    "    model=model,\n",
    "    params={\"temperature\": 0.0},\n",
    "    system=prompt_system\n",
    ")"
   ]
  },
  {
   "cell_type": "code",
   "execution_count": 85,
   "metadata": {},
   "outputs": [],
   "source": [
    "n = 5"
   ]
  },
  {
   "cell_type": "code",
   "execution_count": 86,
   "metadata": {},
   "outputs": [],
   "source": [
    "# get distinct values of the cluster column\n",
    "clusters = df['cluster'].unique()\n",
    "# sort them\n",
    "clusters.sort()"
   ]
  },
  {
   "cell_type": "code",
   "execution_count": 87,
   "metadata": {},
   "outputs": [],
   "source": [
    "#| export\n",
    "def get_examples(df, cluster, n):\n",
    "\treturn (df\n",
    "\t\t.nsmallest(n, f'dist_cluster_{cluster}')\n",
    "\t\t.assign(text = lambda row: row['left_context'] + ' ' + row['node'] + ' ' + row['right_context'])\n",
    "\t\t.loc[:, ['text']]\n",
    "\t)"
   ]
  },
  {
   "cell_type": "code",
   "execution_count": 88,
   "metadata": {},
   "outputs": [
    {
     "data": {
      "text/html": [
       "<div>\n",
       "<style scoped>\n",
       "    .dataframe tbody tr th:only-of-type {\n",
       "        vertical-align: middle;\n",
       "    }\n",
       "\n",
       "    .dataframe tbody tr th {\n",
       "        vertical-align: top;\n",
       "    }\n",
       "\n",
       "    .dataframe thead th {\n",
       "        text-align: right;\n",
       "    }\n",
       "</style>\n",
       "<table border=\"1\" class=\"dataframe\">\n",
       "  <thead>\n",
       "    <tr style=\"text-align: right;\">\n",
       "      <th></th>\n",
       "      <th>text</th>\n",
       "    </tr>\n",
       "  </thead>\n",
       "  <tbody>\n",
       "    <tr>\n",
       "      <th>71</th>\n",
       "      <td>in here it wo n't allow me to store anything i...</td>\n",
       "    </tr>\n",
       "    <tr>\n",
       "      <th>104</th>\n",
       "      <td>? yeah just get a pair just to eh keep in here...</td>\n",
       "    </tr>\n",
       "    <tr>\n",
       "      <th>38</th>\n",
       "      <td>s like four or five drawers yeah there 's four...</td>\n",
       "    </tr>\n",
       "    <tr>\n",
       "      <th>181</th>\n",
       "      <td>--ANONnameM not have one ? I 've got bigger bo...</td>\n",
       "    </tr>\n",
       "    <tr>\n",
       "      <th>175</th>\n",
       "      <td>did it go ? ah users --ANONnameM my pictures p...</td>\n",
       "    </tr>\n",
       "  </tbody>\n",
       "</table>\n",
       "</div>"
      ],
      "text/plain": [
       "                                                  text\n",
       "71   in here it wo n't allow me to store anything i...\n",
       "104  ? yeah just get a pair just to eh keep in here...\n",
       "38   s like four or five drawers yeah there 's four...\n",
       "181  --ANONnameM not have one ? I 've got bigger bo...\n",
       "175  did it go ? ah users --ANONnameM my pictures p..."
      ]
     },
     "execution_count": 88,
     "metadata": {},
     "output_type": "execute_result"
    }
   ],
   "source": [
    "examples = get_examples(df, 0, n)\n",
    "examples"
   ]
  },
  {
   "cell_type": "code",
   "execution_count": 89,
   "metadata": {},
   "outputs": [],
   "source": [
    "#| export\n",
    "def format_examples(examples):\n",
    "\t# convert to list of strings\n",
    "\texamples = examples['text'].tolist()\n",
    "\t# join all examples into one string with linebreaks\n",
    "\texamples = '- ' + '\\n- '.join(examples)\n",
    "\treturn examples"
   ]
  },
  {
   "cell_type": "code",
   "execution_count": 90,
   "metadata": {},
   "outputs": [
    {
     "data": {
      "text/plain": [
       "\"- in here it wo n't allow me to store anything in here right well that 's annoying so I can only put\\n- ? yeah just get a pair just to eh keep in here well I 've got two pairs anyway so I might\\n- s like four or five drawers yeah there 's four in here and they 're nice it 's a nice size one\\n- --ANONnameM not have one ? I 've got bigger bowls in here hang on a minute there might be something in here\\n- did it go ? ah users --ANONnameM my pictures probably in here what is it you 're looking for ? er that\""
      ]
     },
     "execution_count": 90,
     "metadata": {},
     "output_type": "execute_result"
    }
   ],
   "source": [
    "examples_formatted = format_examples(examples)\n",
    "examples_formatted"
   ]
  },
  {
   "cell_type": "code",
   "execution_count": 91,
   "metadata": {},
   "outputs": [
    {
     "name": "stdout",
     "output_type": "stream",
     "text": [
      "cluster 0\n",
      "\n",
      "- in here it wo n't allow me to store anything in here right well that 's annoying so I can only put\n",
      "- ? yeah just get a pair just to eh keep in here well I 've got two pairs anyway so I might\n",
      "- s like four or five drawers yeah there 's four in here and they 're nice it 's a nice size one\n",
      "- --ANONnameM not have one ? I 've got bigger bowls in here hang on a minute there might be something in here\n",
      "- did it go ? ah users --ANONnameM my pictures probably in here what is it you 're looking for ? er that\n",
      "\n",
      "cluster 1\n",
      "\n",
      "- I 'm the alpaca Pandora of of the --ANONplace came in here totally see you as like a horror movie lead actually\n",
      "- Helen live together and er they when I first moved in here and I was n't sure about it and I was\n",
      "- see it ? oh yeah yeah --ANONnameM --ANONnameM --ANONnameM come in here where I can see you hello hello hello hello juice\n",
      "- when I lived with --ANONnameM and --ANONnameF before I moved in here mm hm and um she came and everything and it\n",
      "- How long ago ? last year just before I moved in here oh right nah I were n't there then in the\n",
      "\n",
      "cluster 2\n",
      "\n",
      "- last night than yeah the night before it is cooler in here like like I think it was really hot last night\n",
      "- it 's too hot in here it 's getting hot in here so hot so let 's eat Christmas dinner erm I\n",
      "- some for the hat have another one getting quite noisy in here now is n't it let 's go for a walk\n",
      "- of an inkling of of apprehensiveness but it 's busy in here look at this why ? cos it 's the holidays\n",
      "- just gone in the kitchen my goodness it is dark in here is n't it without the lights ? wow let there\n",
      "\n",
      "cluster 3\n",
      "\n",
      "- was erm why wo n't this why will nothing fit in here ? Where is the knife ? --UNCLEARWORD to do that\n",
      "- ca n't think for the life of me it was in here ? yeah I looked in all the cupboards just in\n",
      "- here look Fontana and Vrisar nothing about about what 's in here ? well Porec centre did you see that ? no\n",
      "- shopping is n't it ? yeah yeah oh what 's in here ? ah or in Tescos he does n't --ANONnameM does\n",
      "- slippers come from oh yeah what else have we got in here ? this is all the little baby turtles that we\n",
      "\n",
      "cluster 4\n",
      "\n",
      "- I bet we 've got hundreds ca n't see any in here although well you know at the risk of sounding racist\n",
      "- in the other room cos we t- we 're talking in here oh no well we 'll talk in here well then\n",
      "- n't you so yeah but erm no point leaving it in here there 'll be some money I 'm sure stuff and\n",
      "- bit there and um last week when --ANONnameM was sleeping in here they started playing for some reason started playing really loud\n",
      "- the table in here cos we 're gon na eat in here yes I think so is that alright ? yeah --UNCLEARWORD\n",
      "\n",
      "\n"
     ]
    }
   ],
   "source": [
    "prompt_examples = ''\n",
    "\n",
    "for c in clusters:\n",
    "\tprompt_examples += f'cluster {c}' + '\\n'\n",
    "\tprompt_examples += '\\n' + format_examples(get_examples(df, c, n)) + '\\n\\n'\n",
    "\n",
    "print(prompt_examples)"
   ]
  },
  {
   "cell_type": "code",
   "execution_count": 92,
   "metadata": {},
   "outputs": [],
   "source": [
    "# gpt_analysis = ai(prompt_examples)"
   ]
  },
  {
   "cell_type": "code",
   "execution_count": 95,
   "metadata": {},
   "outputs": [
    {
     "data": {
      "text/markdown": [
       "Cluster 0: This cluster seems to represent uses of 'in here' where the phrase refers to a specific location or container where items can be stored or found. The phrase is often used in the context of searching for something or discussing the placement of objects.\n",
       "\n",
       "Cluster 1: This cluster represents uses of 'in here' in the context of moving or coming into a place. The phrase is often used to describe someone's arrival or relocation to a new place, such as moving into a new house or entering a room.\n",
       "\n",
       "Cluster 2: This cluster represents uses of 'in here' where the phrase is used to describe the conditions or atmosphere of a place, such as its temperature or noise level. The phrase is often used in the context of commenting on these conditions.\n",
       "\n",
       "Cluster 3: This cluster represents uses of 'in here' where the phrase is used in questions or exclamations about what is inside a particular place or container. The phrase is often used in the context of discovering or identifying what is inside.\n",
       "\n",
       "Cluster 4: This cluster represents uses of 'in here' where the phrase is used to refer to a specific location where activities are taking place or are planned to take place. The phrase is often used in the context of discussing these activities.\n",
       "\n",
       "These clusters cover a range of usages of 'in here', from referring to a specific location or container, to describing the conditions of a place, to discussing activities taking place in a location. They show that 'in here' can be used in a variety of contexts and with different meanings depending on the situation."
      ],
      "text/plain": [
       "<IPython.core.display.Markdown object>"
      ]
     },
     "metadata": {},
     "output_type": "display_data"
    }
   ],
   "source": [
    "display(Markdown(gpt_analysis))"
   ]
  },
  {
   "cell_type": "code",
   "execution_count": 103,
   "metadata": {},
   "outputs": [],
   "source": [
    "# with open(f'../out/gpt_cluster_analysis_{model}_{n}.txt', 'w') as f:\n",
    "# \tf.write(gpt_analysis)"
   ]
  }
 ],
 "metadata": {
  "kernelspec": {
   "display_name": "python3",
   "language": "python",
   "name": "python3"
  }
 },
 "nbformat": 4,
 "nbformat_minor": 2
}
